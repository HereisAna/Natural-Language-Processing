{
 "cells": [
  {
   "cell_type": "code",
   "execution_count": 1,
   "id": "f2aacd98",
   "metadata": {},
   "outputs": [],
   "source": [
    "# Natural Language Processing\n",
    "# Assesment of FollowAlice Company email"
   ]
  },
  {
   "cell_type": "code",
   "execution_count": 2,
   "id": "c6e09c55",
   "metadata": {},
   "outputs": [],
   "source": [
    "from textblob import TextBlob\n",
    "import nltk\n",
    "from pathlib import Path\n",
    "from nltk.corpus import stopwords\n",
    "from textblob import Word"
   ]
  },
  {
   "cell_type": "code",
   "execution_count": 3,
   "id": "5fb2f65e",
   "metadata": {},
   "outputs": [],
   "source": [
    "blob = TextBlob(Path('FollowAliceEmail.txt').read_text())"
   ]
  },
  {
   "cell_type": "code",
   "execution_count": 4,
   "id": "6fe64790",
   "metadata": {},
   "outputs": [
    {
     "name": "stdout",
     "output_type": "stream",
     "text": [
      "dict_items([('there', 1), ('s', 2), ('a', 4), ('first', 1), ('time', 3), ('for', 8), ('everything', 1), ('brendan', 3), ('we', 6), ('re', 3), ('offering', 1), ('40', 1), ('off', 1), ('your', 1), ('deposit', 1), ('kilimanjaro', 1), ('climb', 2), ('booked', 1), ('in', 2), ('the', 10), ('month', 1), ('of', 5), ('july', 1), ('incredibly', 1), ('grateful', 1), ('to', 9), ('have', 3), ('surpassed', 1), ('200', 1), ('positive', 2), ('5-star', 1), ('reviews', 1), ('on', 1), ('trustpilot', 1), ('celebrate', 1), ('d', 1), ('love', 1), ('you', 4), ('experience', 5), ('just', 2), ('what', 4), ('everyone', 1), ('talking', 1), ('about', 1), ('great', 3), ('go', 1), ('it', 3), ('an', 3), ('awesome', 2), ('followaliceworked', 1), ('hard', 1), ('get', 1), ('my', 1), ('wife', 1), ('and', 5), ('i', 4), ('top', 1), ('kili', 1), ('crew', 2), ('with', 3), ('personalities', 1), ('leading', 1), ('unforgettable', 1), ('tanzania', 1), ('already', 1), ('planning', 1), ('our', 2), ('next', 1), ('trip', 1), ('chris', 1), ('this', 1), ('could', 2), ('be', 1), ('lifetime', 1), ('wow', 1), ('amazing', 1), ('follow', 1), ('alice', 1), ('that', 1), ('will', 1), ('not', 4), ('regret', 1), ('did', 1), ('9', 1), ('day', 1), ('northers', 1), ('circuit', 1), ('route', 1), ('wealways', 1), ('felt', 1), ('cared', 1), ('guides', 1), ('were', 2), ('robert', 1), ('gideon', 1), ('alex', 1), ('probably', 1), ('would', 1), ('been', 1), ('able', 1), ('do', 1), ('if', 1), ('their', 1), ('patience', 1), ('brought', 1), ('vibes', 1), ('loads', 1), ('laughs', 1), ('even', 1), ('during', 1), ('toughest', 1), ('parts', 1), ('entore', 1), ('was', 1), ('also', 1), ('incredible', 1), ('from', 1), ('cook', 1), ('all', 1), ('porters', 1), ('asked', 1), ('better', 1), ('team', 1), ('kimberly', 1), ('so', 1), ('are', 1), ('waiting', 1), ('look', 1), ('forward', 1), ('adventuring', 1), ('when', 1), ('is', 1), ('right', 1)])\n"
     ]
    }
   ],
   "source": [
    "#get word frequencies \n",
    "stop_words = stopwords.words('english')\n",
    "items = blob.word_counts.items()\n",
    "print(items)"
   ]
  },
  {
   "cell_type": "code",
   "execution_count": 5,
   "id": "4eb62a23",
   "metadata": {},
   "outputs": [
    {
     "data": {
      "text/plain": [
       "[('first', 1),\n",
       " ('time', 3),\n",
       " ('everything', 1),\n",
       " ('brendan', 3),\n",
       " ('offering', 1),\n",
       " ('40', 1),\n",
       " ('deposit', 1),\n",
       " ('kilimanjaro', 1),\n",
       " ('climb', 2),\n",
       " ('booked', 1),\n",
       " ('month', 1),\n",
       " ('july', 1),\n",
       " ('incredibly', 1),\n",
       " ('grateful', 1),\n",
       " ('surpassed', 1),\n",
       " ('200', 1),\n",
       " ('positive', 2),\n",
       " ('5-star', 1),\n",
       " ('reviews', 1),\n",
       " ('trustpilot', 1),\n",
       " ('celebrate', 1),\n",
       " ('love', 1),\n",
       " ('experience', 5),\n",
       " ('everyone', 1),\n",
       " ('talking', 1),\n",
       " ('great', 3),\n",
       " ('go', 1),\n",
       " ('awesome', 2),\n",
       " ('followaliceworked', 1),\n",
       " ('hard', 1),\n",
       " ('get', 1),\n",
       " ('wife', 1),\n",
       " ('top', 1),\n",
       " ('kili', 1),\n",
       " ('crew', 2),\n",
       " ('personalities', 1),\n",
       " ('leading', 1),\n",
       " ('unforgettable', 1),\n",
       " ('tanzania', 1),\n",
       " ('already', 1),\n",
       " ('planning', 1),\n",
       " ('next', 1),\n",
       " ('trip', 1),\n",
       " ('chris', 1),\n",
       " ('could', 2),\n",
       " ('lifetime', 1),\n",
       " ('wow', 1),\n",
       " ('amazing', 1),\n",
       " ('follow', 1),\n",
       " ('alice', 1),\n",
       " ('regret', 1),\n",
       " ('9', 1),\n",
       " ('day', 1),\n",
       " ('northers', 1),\n",
       " ('circuit', 1),\n",
       " ('route', 1),\n",
       " ('wealways', 1),\n",
       " ('felt', 1),\n",
       " ('cared', 1),\n",
       " ('guides', 1),\n",
       " ('robert', 1),\n",
       " ('gideon', 1),\n",
       " ('alex', 1),\n",
       " ('probably', 1),\n",
       " ('would', 1),\n",
       " ('able', 1),\n",
       " ('patience', 1),\n",
       " ('brought', 1),\n",
       " ('vibes', 1),\n",
       " ('loads', 1),\n",
       " ('laughs', 1),\n",
       " ('even', 1),\n",
       " ('toughest', 1),\n",
       " ('parts', 1),\n",
       " ('entore', 1),\n",
       " ('also', 1),\n",
       " ('incredible', 1),\n",
       " ('cook', 1),\n",
       " ('porters', 1),\n",
       " ('asked', 1),\n",
       " ('better', 1),\n",
       " ('team', 1),\n",
       " ('kimberly', 1),\n",
       " ('waiting', 1),\n",
       " ('look', 1),\n",
       " ('forward', 1),\n",
       " ('adventuring', 1),\n",
       " ('right', 1)]"
      ]
     },
     "execution_count": 5,
     "metadata": {},
     "output_type": "execute_result"
    }
   ],
   "source": [
    "items = [item for item in items if item[0] not in stop_words]\n",
    "items"
   ]
  },
  {
   "cell_type": "code",
   "execution_count": 6,
   "id": "8d212cee",
   "metadata": {},
   "outputs": [
    {
     "data": {
      "text/plain": [
       "[('experience', 5),\n",
       " ('time', 3),\n",
       " ('brendan', 3),\n",
       " ('great', 3),\n",
       " ('climb', 2),\n",
       " ('positive', 2),\n",
       " ('awesome', 2),\n",
       " ('crew', 2),\n",
       " ('could', 2),\n",
       " ('first', 1),\n",
       " ('everything', 1),\n",
       " ('offering', 1),\n",
       " ('40', 1),\n",
       " ('deposit', 1),\n",
       " ('kilimanjaro', 1),\n",
       " ('booked', 1),\n",
       " ('month', 1),\n",
       " ('july', 1),\n",
       " ('incredibly', 1),\n",
       " ('grateful', 1),\n",
       " ('surpassed', 1),\n",
       " ('200', 1),\n",
       " ('5-star', 1),\n",
       " ('reviews', 1),\n",
       " ('trustpilot', 1),\n",
       " ('celebrate', 1),\n",
       " ('love', 1),\n",
       " ('everyone', 1),\n",
       " ('talking', 1),\n",
       " ('go', 1),\n",
       " ('followaliceworked', 1),\n",
       " ('hard', 1),\n",
       " ('get', 1),\n",
       " ('wife', 1),\n",
       " ('top', 1),\n",
       " ('kili', 1),\n",
       " ('personalities', 1),\n",
       " ('leading', 1),\n",
       " ('unforgettable', 1),\n",
       " ('tanzania', 1),\n",
       " ('already', 1),\n",
       " ('planning', 1),\n",
       " ('next', 1),\n",
       " ('trip', 1),\n",
       " ('chris', 1),\n",
       " ('lifetime', 1),\n",
       " ('wow', 1),\n",
       " ('amazing', 1),\n",
       " ('follow', 1),\n",
       " ('alice', 1),\n",
       " ('regret', 1),\n",
       " ('9', 1),\n",
       " ('day', 1),\n",
       " ('northers', 1),\n",
       " ('circuit', 1),\n",
       " ('route', 1),\n",
       " ('wealways', 1),\n",
       " ('felt', 1),\n",
       " ('cared', 1),\n",
       " ('guides', 1),\n",
       " ('robert', 1),\n",
       " ('gideon', 1),\n",
       " ('alex', 1),\n",
       " ('probably', 1),\n",
       " ('would', 1),\n",
       " ('able', 1),\n",
       " ('patience', 1),\n",
       " ('brought', 1),\n",
       " ('vibes', 1),\n",
       " ('loads', 1),\n",
       " ('laughs', 1),\n",
       " ('even', 1),\n",
       " ('toughest', 1),\n",
       " ('parts', 1),\n",
       " ('entore', 1),\n",
       " ('also', 1),\n",
       " ('incredible', 1),\n",
       " ('cook', 1),\n",
       " ('porters', 1),\n",
       " ('asked', 1),\n",
       " ('better', 1),\n",
       " ('team', 1),\n",
       " ('kimberly', 1),\n",
       " ('waiting', 1),\n",
       " ('look', 1),\n",
       " ('forward', 1),\n",
       " ('adventuring', 1),\n",
       " ('right', 1)]"
      ]
     },
     "execution_count": 6,
     "metadata": {},
     "output_type": "execute_result"
    }
   ],
   "source": [
    "#sorting the keys by frequency\n",
    "from operator import itemgetter\n",
    "sorted_items = sorted(items,key = itemgetter(1), reverse = True)\n",
    "sorted_items"
   ]
  },
  {
   "cell_type": "code",
   "execution_count": 7,
   "id": "4cfba738",
   "metadata": {},
   "outputs": [
    {
     "data": {
      "text/plain": [
       "[('experience', 5),\n",
       " ('time', 3),\n",
       " ('brendan', 3),\n",
       " ('great', 3),\n",
       " ('climb', 2),\n",
       " ('positive', 2),\n",
       " ('awesome', 2),\n",
       " ('crew', 2),\n",
       " ('could', 2),\n",
       " ('first', 1),\n",
       " ('everything', 1),\n",
       " ('offering', 1),\n",
       " ('40', 1),\n",
       " ('deposit', 1),\n",
       " ('kilimanjaro', 1),\n",
       " ('booked', 1),\n",
       " ('month', 1),\n",
       " ('july', 1),\n",
       " ('incredibly', 1),\n",
       " ('grateful', 1)]"
      ]
     },
     "execution_count": 7,
     "metadata": {},
     "output_type": "execute_result"
    }
   ],
   "source": [
    "top20 = sorted_items[0:20]\n",
    "top20"
   ]
  },
  {
   "cell_type": "code",
   "execution_count": 8,
   "id": "37022528",
   "metadata": {},
   "outputs": [],
   "source": [
    "import pandas as pd"
   ]
  },
  {
   "cell_type": "code",
   "execution_count": 9,
   "id": "ddf16730",
   "metadata": {},
   "outputs": [
    {
     "data": {
      "text/html": [
       "<div>\n",
       "<style scoped>\n",
       "    .dataframe tbody tr th:only-of-type {\n",
       "        vertical-align: middle;\n",
       "    }\n",
       "\n",
       "    .dataframe tbody tr th {\n",
       "        vertical-align: top;\n",
       "    }\n",
       "\n",
       "    .dataframe thead th {\n",
       "        text-align: right;\n",
       "    }\n",
       "</style>\n",
       "<table border=\"1\" class=\"dataframe\">\n",
       "  <thead>\n",
       "    <tr style=\"text-align: right;\">\n",
       "      <th></th>\n",
       "      <th>word</th>\n",
       "      <th>count</th>\n",
       "    </tr>\n",
       "  </thead>\n",
       "  <tbody>\n",
       "    <tr>\n",
       "      <th>0</th>\n",
       "      <td>experience</td>\n",
       "      <td>5</td>\n",
       "    </tr>\n",
       "    <tr>\n",
       "      <th>1</th>\n",
       "      <td>time</td>\n",
       "      <td>3</td>\n",
       "    </tr>\n",
       "    <tr>\n",
       "      <th>2</th>\n",
       "      <td>brendan</td>\n",
       "      <td>3</td>\n",
       "    </tr>\n",
       "    <tr>\n",
       "      <th>3</th>\n",
       "      <td>great</td>\n",
       "      <td>3</td>\n",
       "    </tr>\n",
       "    <tr>\n",
       "      <th>4</th>\n",
       "      <td>climb</td>\n",
       "      <td>2</td>\n",
       "    </tr>\n",
       "    <tr>\n",
       "      <th>5</th>\n",
       "      <td>positive</td>\n",
       "      <td>2</td>\n",
       "    </tr>\n",
       "    <tr>\n",
       "      <th>6</th>\n",
       "      <td>awesome</td>\n",
       "      <td>2</td>\n",
       "    </tr>\n",
       "    <tr>\n",
       "      <th>7</th>\n",
       "      <td>crew</td>\n",
       "      <td>2</td>\n",
       "    </tr>\n",
       "    <tr>\n",
       "      <th>8</th>\n",
       "      <td>could</td>\n",
       "      <td>2</td>\n",
       "    </tr>\n",
       "    <tr>\n",
       "      <th>9</th>\n",
       "      <td>first</td>\n",
       "      <td>1</td>\n",
       "    </tr>\n",
       "    <tr>\n",
       "      <th>10</th>\n",
       "      <td>everything</td>\n",
       "      <td>1</td>\n",
       "    </tr>\n",
       "    <tr>\n",
       "      <th>11</th>\n",
       "      <td>offering</td>\n",
       "      <td>1</td>\n",
       "    </tr>\n",
       "    <tr>\n",
       "      <th>12</th>\n",
       "      <td>40</td>\n",
       "      <td>1</td>\n",
       "    </tr>\n",
       "    <tr>\n",
       "      <th>13</th>\n",
       "      <td>deposit</td>\n",
       "      <td>1</td>\n",
       "    </tr>\n",
       "    <tr>\n",
       "      <th>14</th>\n",
       "      <td>kilimanjaro</td>\n",
       "      <td>1</td>\n",
       "    </tr>\n",
       "    <tr>\n",
       "      <th>15</th>\n",
       "      <td>booked</td>\n",
       "      <td>1</td>\n",
       "    </tr>\n",
       "    <tr>\n",
       "      <th>16</th>\n",
       "      <td>month</td>\n",
       "      <td>1</td>\n",
       "    </tr>\n",
       "    <tr>\n",
       "      <th>17</th>\n",
       "      <td>july</td>\n",
       "      <td>1</td>\n",
       "    </tr>\n",
       "    <tr>\n",
       "      <th>18</th>\n",
       "      <td>incredibly</td>\n",
       "      <td>1</td>\n",
       "    </tr>\n",
       "    <tr>\n",
       "      <th>19</th>\n",
       "      <td>grateful</td>\n",
       "      <td>1</td>\n",
       "    </tr>\n",
       "  </tbody>\n",
       "</table>\n",
       "</div>"
      ],
      "text/plain": [
       "           word  count\n",
       "0    experience      5\n",
       "1          time      3\n",
       "2       brendan      3\n",
       "3         great      3\n",
       "4         climb      2\n",
       "5      positive      2\n",
       "6       awesome      2\n",
       "7          crew      2\n",
       "8         could      2\n",
       "9         first      1\n",
       "10   everything      1\n",
       "11     offering      1\n",
       "12           40      1\n",
       "13      deposit      1\n",
       "14  kilimanjaro      1\n",
       "15       booked      1\n",
       "16        month      1\n",
       "17         july      1\n",
       "18   incredibly      1\n",
       "19     grateful      1"
      ]
     },
     "execution_count": 9,
     "metadata": {},
     "output_type": "execute_result"
    }
   ],
   "source": [
    "df = pd.DataFrame(top20,columns = ['word','count'])\n",
    "df"
   ]
  },
  {
   "cell_type": "code",
   "execution_count": 10,
   "id": "f505ea76",
   "metadata": {},
   "outputs": [
    {
     "data": {
      "text/plain": [
       "<AxesSubplot:xlabel='word'>"
      ]
     },
     "execution_count": 10,
     "metadata": {},
     "output_type": "execute_result"
    },
    {
     "data": {
      "image/png": "[encoded data removed]",
      "text/plain": [
       "<Figure size 432x288 with 1 Axes>"
      ]
     },
     "metadata": {
      "needs_background": "light"
     },
     "output_type": "display_data"
    }
   ],
   "source": [
    "axes = df.plot.bar(x='word', y='count', legend = False)\n",
    "axes"
   ]
  },
  {
   "cell_type": "code",
   "execution_count": 11,
   "id": "1cf29d52",
   "metadata": {},
   "outputs": [],
   "source": [
    "# Visualizing Frequencies With Word Clouds\n",
    "\n",
    "import imageio"
   ]
  },
  {
   "cell_type": "code",
   "execution_count": 12,
   "id": "08d58332",
   "metadata": {},
   "outputs": [],
   "source": [
    "mask_image = imageio.imread('FollowAlice1.png')"
   ]
  },
  {
   "cell_type": "code",
   "execution_count": 13,
   "id": "eef8036a",
   "metadata": {},
   "outputs": [],
   "source": [
    "from wordcloud import WordCloud"
   ]
  },
  {
   "cell_type": "code",
   "execution_count": 14,
   "id": "6a2c2288",
   "metadata": {},
   "outputs": [],
   "source": [
    "wordcloud = WordCloud(colormap = 'prism', mask = mask_image, background_color = 'White')"
   ]
  },
  {
   "cell_type": "code",
   "execution_count": 15,
   "id": "be037892",
   "metadata": {},
   "outputs": [],
   "source": [
    "blob = Path('FollowAliceEmail.txt').read_text()\n",
    "wordcloud = wordcloud.generate(blob)"
   ]
  },
  {
   "cell_type": "code",
   "execution_count": 16,
   "id": "74ce4ca9",
   "metadata": {},
   "outputs": [],
   "source": [
    "wordcloud = wordcloud.to_file('FollowAliceEmail.png')"
   ]
  },
  {
   "cell_type": "code",
   "execution_count": 17,
   "id": "fbc4884b",
   "metadata": {},
   "outputs": [],
   "source": [
    "import matplotlib.pyplot as plt"
   ]
  },
  {
   "cell_type": "code",
   "execution_count": 18,
   "id": "3e872419",
   "metadata": {},
   "outputs": [
    {
     "data": {
      "image/png": "[encoded data removed]",
      "text/plain": [
       "<Figure size 432x288 with 1 Axes>"
      ]
     },
     "metadata": {
      "needs_background": "light"
     },
     "output_type": "display_data"
    }
   ],
   "source": [
    "plt.imshow(wordcloud)\n",
    "plt.show()"
   ]
  },
  {
   "cell_type": "code",
   "execution_count": 19,
   "id": "5bd9db11",
   "metadata": {},
   "outputs": [],
   "source": [
    "from textatistic import Textatistic"
   ]
  },
  {
   "cell_type": "code",
   "execution_count": 20,
   "id": "231b5a7b",
   "metadata": {},
   "outputs": [],
   "source": [
    "readability = Textatistic(blob)"
   ]
  },
  {
   "cell_type": "code",
   "execution_count": 21,
   "id": "02b61678",
   "metadata": {},
   "outputs": [
    {
     "data": {
      "text/plain": [
       "{'char_count': 993,\n",
       " 'word_count': 210,\n",
       " 'sent_count': 16,\n",
       " 'sybl_count': 291,\n",
       " 'notdalechall_count': 44,\n",
       " 'polysyblword_count': 21,\n",
       " 'flesch_score': 76.28169642857144,\n",
       " 'fleschkincaid_score': 5.880178571428571,\n",
       " 'gunningfog_score': 9.25,\n",
       " 'smog_score': 9.673873057562805,\n",
       " 'dalechall_score': 7.595880952380952}"
      ]
     },
     "execution_count": 21,
     "metadata": {},
     "output_type": "execute_result"
    }
   ],
   "source": [
    "readability.dict()"
   ]
  },
  {
   "cell_type": "code",
   "execution_count": 22,
   "id": "1fd3f4b4",
   "metadata": {},
   "outputs": [],
   "source": [
    "#get synonims\n"
   ]
  },
  {
   "cell_type": "code",
   "execution_count": 23,
   "id": "1c6d18f2",
   "metadata": {},
   "outputs": [
    {
     "data": {
      "text/plain": [
       "['the primary form of an adjective or adverb; denotes a quality without qualification, comparison, or relation to increase or diminution',\n",
       " 'a film showing a photographic image whose tones correspond to those of the original subject',\n",
       " 'characterized by or displaying affirmation or acceptance or certainty etc.',\n",
       " 'persuaded of; very sure',\n",
       " 'involving advantage or good',\n",
       " 'indicating existence or presence of a suspected condition or pathogen',\n",
       " 'formally laid down or imposed',\n",
       " 'impossible to deny or disprove',\n",
       " 'of or relating to positivism',\n",
       " 'reckoned, situated or tending in the direction which naturally or arbitrarily is taken to indicate increase or progress or onward motion',\n",
       " 'greater than zero',\n",
       " 'having a positive charge',\n",
       " 'marked by excessive confidence']"
      ]
     },
     "execution_count": 23,
     "metadata": {},
     "output_type": "execute_result"
    }
   ],
   "source": [
    "positive = Word('positive')\n",
    "positive.definitions"
   ]
  },
  {
   "cell_type": "code",
   "execution_count": null,
   "id": "daafb04e",
   "metadata": {},
   "outputs": [],
   "source": []
  },
  {
   "cell_type": "code",
   "execution_count": null,
   "id": "fd27c5b3",
   "metadata": {},
   "outputs": [],
   "source": []
  }
 ],
 "metadata": {
  "kernelspec": {
   "display_name": "Python 3 (ipykernel)",
   "language": "python",
   "name": "python3"
  },
  "language_info": {
   "codemirror_mode": {
    "name": "ipython",
    "version": 3
   },
   "file_extension": ".py",
   "mimetype": "text/x-python",
   "name": "python",
   "nbconvert_exporter": "python",
   "pygments_lexer": "ipython3",
   "version": "3.9.7"
  }
 },
 "nbformat": 4,
 "nbformat_minor": 5
}
